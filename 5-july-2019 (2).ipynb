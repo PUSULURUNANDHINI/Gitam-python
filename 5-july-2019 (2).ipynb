{
 "cells": [
  {
   "cell_type": "markdown",
   "metadata": {},
   "source": [
    "# python"
   ]
  },
  {
   "cell_type": "markdown",
   "metadata": {},
   "source": [
    "### python basics\n",
    "* python version 3.7\n",
    "- function programming\n",
    "-object oriented programming\n",
    "-scripting programming"
   ]
  },
  {
   "cell_type": "code",
   "execution_count": 6,
   "metadata": {},
   "outputs": [
    {
     "name": "stdout",
     "output_type": "stream",
     "text": [
      "hello gitam\n"
     ]
    }
   ],
   "source": [
    "print(\"hello gitam\")"
   ]
  },
  {
   "cell_type": "code",
   "execution_count": 12,
   "metadata": {},
   "outputs": [
    {
     "name": "stdout",
     "output_type": "stream",
     "text": [
      "hello,Gitam HYD python programming\n"
     ]
    }
   ],
   "source": [
    "print(\"hello,Gitam\", end=\" \")\n",
    "print( \"HYD\", end=\" \")\n",
    "print(\"python programming\")"
   ]
  },
  {
   "cell_type": "markdown",
   "metadata": {},
   "source": [
    "# assignment"
   ]
  },
  {
   "cell_type": "code",
   "execution_count": 13,
   "metadata": {},
   "outputs": [
    {
     "name": "stdout",
     "output_type": "stream",
     "text": [
      "100\n",
      "40 40 40\n",
      "13 10 12\n"
     ]
    }
   ],
   "source": [
    "n1= 100 # single variable assignment\n",
    "a=b=c=40 # multi variable assignment with single value\n",
    "a1,b1,c1=13,10,12 # multi variable assignment with different values\n",
    "print(n1)\n",
    "print(a,b,c)\n",
    "print(a1,b1,c1)"
   ]
  },
  {
   "cell_type": "code",
   "execution_count": 14,
   "metadata": {},
   "outputs": [
    {
     "name": "stdout",
     "output_type": "stream",
     "text": [
      "1000\n",
      "<class 'int'>\n"
     ]
    }
   ],
   "source": [
    "a=1000;\n",
    "print(a)\n",
    "print(type(a))\n"
   ]
  },
  {
   "cell_type": "code",
   "execution_count": 25,
   "metadata": {},
   "outputs": [
    {
     "name": "stdout",
     "output_type": "stream",
     "text": [
      "30.2 n nandhini\n",
      "<class 'float'> <class 'str'> <class 'str'>\n"
     ]
    }
   ],
   "source": [
    "a=30.2;\n",
    "b='n'\n",
    "c=\"nandhini\"\n",
    "print(a,b,c)\n",
    "print(type(a),type(b),type(c))"
   ]
  },
  {
   "cell_type": "code",
   "execution_count": 4,
   "metadata": {},
   "outputs": [
    {
     "data": {
      "text/plain": [
       "5"
      ]
     },
     "execution_count": 4,
     "metadata": {},
     "output_type": "execute_result"
    }
   ],
   "source": [
    "def add(a,b):\n",
    "\n",
    "    return(a+b)\n",
    "\n",
    "add(2,3)\n"
   ]
  },
  {
   "cell_type": "code",
   "execution_count": 6,
   "metadata": {},
   "outputs": [
    {
     "name": "stdout",
     "output_type": "stream",
     "text": [
      "<class 'int'>\n",
      "<class 'str'>\n",
      "<class 'float'>\n"
     ]
    }
   ],
   "source": [
    "i=100\n",
    "print(type(i))\n",
    "a1=str(i) \n",
    "print(type(a1))\n",
    "b1=float(i)\n",
    "print(type(b1))"
   ]
  },
  {
   "cell_type": "code",
   "execution_count": 7,
   "metadata": {},
   "outputs": [
    {
     "name": "stdout",
     "output_type": "stream",
     "text": [
      "<class 'str'>\n",
      "<class 'int'>\n",
      "<class 'int'>\n",
      "1\n"
     ]
    }
   ],
   "source": [
    "a1='10'\n",
    "print(type(a1))\n",
    "a=int(a1)\n",
    "print(type(a))\n",
    "f=1.7\n",
    "b=int(f)\n",
    "print(type(b))\n",
    "print(b)\n"
   ]
  },
  {
   "cell_type": "code",
   "execution_count": 9,
   "metadata": {},
   "outputs": [
    {
     "name": "stdout",
     "output_type": "stream",
     "text": [
      "5\n"
     ]
    }
   ],
   "source": [
    "a=12345\n",
    "print(len(str(a)))"
   ]
  },
  {
   "cell_type": "code",
   "execution_count": 12,
   "metadata": {},
   "outputs": [
    {
     "name": "stdout",
     "output_type": "stream",
     "text": [
      "ENTER YOUR NAMENANDHINI REDDY\n",
      "NANDHINI REDDY\n",
      "<class 'str'>\n"
     ]
    }
   ],
   "source": [
    "a=input(\"ENTER YOUR NAME\")\n",
    "print(a)\n",
    "print(type(a))\n"
   ]
  },
  {
   "cell_type": "code",
   "execution_count": 13,
   "metadata": {},
   "outputs": [
    {
     "name": "stdout",
     "output_type": "stream",
     "text": [
      "enter a number100\n",
      "100 <class 'int'>\n"
     ]
    }
   ],
   "source": [
    "n=int(input(\"enter a number\"))\n",
    "print(n,type(n))"
   ]
  },
  {
   "cell_type": "markdown",
   "metadata": {},
   "source": [
    "### Arithematic Operators"
   ]
  },
  {
   "cell_type": "code",
   "execution_count": 20,
   "metadata": {},
   "outputs": [
    {
     "name": "stdout",
     "output_type": "stream",
     "text": [
      "enter a number200\n",
      "210\n",
      "190\n",
      "0\n",
      "2000\n",
      "20.0\n",
      "20\n",
      "102400000000000000000000\n"
     ]
    }
   ],
   "source": [
    "n1=int(input(\"enter a number\"))\n",
    "print(n1+10)\n",
    "print(n1-10)\n",
    "print(n1%10)\n",
    "print(n1*10)\n",
    "print(n1/10)\n",
    "print(n1//10)\n",
    "print(n1**10)"
   ]
  },
  {
   "cell_type": "code",
   "execution_count": 31,
   "metadata": {},
   "outputs": [
    {
     "name": "stdout",
     "output_type": "stream",
     "text": [
      "8.0\n"
     ]
    }
   ],
   "source": [
    "a=1+2**3/4+5\n",
    "print(a)"
   ]
  },
  {
   "cell_type": "markdown",
   "metadata": {},
   "source": [
    "## Relational operators"
   ]
  },
  {
   "cell_type": "markdown",
   "metadata": {},
   "source": [
    "### >=\n",
    "### <=\n",
    "### >\n",
    "### <\n",
    "### ==\n",
    "### !"
   ]
  },
  {
   "cell_type": "code",
   "execution_count": 46,
   "metadata": {},
   "outputs": [
    {
     "name": "stdout",
     "output_type": "stream",
     "text": [
      "False\n",
      "True\n",
      "True\n",
      "False\n",
      "False\n",
      "False\n"
     ]
    }
   ],
   "source": [
    "n=100\n",
    "print(n<10)\n",
    "print(n>10)\n",
    "print(n>=10)\n",
    "print(n==10)\n",
    "print(n<=10)\n",
    "print(n==10)\n",
    "\n"
   ]
  },
  {
   "cell_type": "code",
   "execution_count": 51,
   "metadata": {},
   "outputs": [
    {
     "name": "stdout",
     "output_type": "stream",
     "text": [
      "enter a number100\n",
      "even\n"
     ]
    }
   ],
   "source": [
    "n=int(input(\"enter a number\"))\n",
    "if n%2 == 0:\n",
    "    print(\"even\")\n",
    "else:\n",
    "    print(\"odd\")\n",
    "       "
   ]
  },
  {
   "cell_type": "code",
   "execution_count": 56,
   "metadata": {},
   "outputs": [
    {
     "name": "stdout",
     "output_type": "stream",
     "text": [
      "enter a number150\n",
      "yes\n"
     ]
    }
   ],
   "source": [
    "n=int(input(\"enter a number\"))\n",
    "if n%3 == 0 and n%5 == 0:\n",
    "    print(\"yes\")\n",
    "else:\n",
    "    print(\"no\")"
   ]
  }
 ],
 "metadata": {
  "kernelspec": {
   "display_name": "Python 3",
   "language": "python",
   "name": "python3"
  },
  "language_info": {
   "codemirror_mode": {
    "name": "ipython",
    "version": 3
   },
   "file_extension": ".py",
   "mimetype": "text/x-python",
   "name": "python",
   "nbconvert_exporter": "python",
   "pygments_lexer": "ipython3",
   "version": "3.7.3"
  }
 },
 "nbformat": 4,
 "nbformat_minor": 2
}
